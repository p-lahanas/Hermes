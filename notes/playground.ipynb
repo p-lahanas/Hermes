{
 "cells": [
  {
   "cell_type": "code",
   "execution_count": 1,
   "metadata": {},
   "outputs": [],
   "source": [
    "import pandas as pd\n",
    "import json\n",
    "\n",
    "def the_odds_read_json(path) -> pd.DataFrame:\n",
    "    # Reads in our collected json data from the odds api\n",
    "\n",
    "    try:\n",
    "        with open(path) as f:\n",
    "            raw_json = json.load(f)\n",
    "\n",
    "    except (FileNotFoundError, PermissionError) as e:\n",
    "        print(f'Error accessing or modifying the file: {e}')\n",
    "        return None\n",
    "    except Exception as e:\n",
    "        print(f'Error opening data: {e}')\n",
    "        return None\n",
    "\n",
    "    df = pd.json_normalize(raw_json, record_path=['bookmakers', 'markets', 'outcomes'],\n",
    "                           meta=['id', 'sport_key', 'commence_time', 'sport_title', ['bookmakers', 'title'],\n",
    "                                 ['bookmakers', 'key'], ['bookmakers', 'last_update'],['bookmakers', 'markets', 'key']])\n",
    "    return df\n",
    "\n",
    "#df = the_odds_read_json('../src/saved_data/apis/the_odds.json')"
   ]
  },
  {
   "cell_type": "code",
   "execution_count": 5,
   "metadata": {},
   "outputs": [
    {
     "name": "stdout",
     "output_type": "stream",
     "text": [
      "                 name  price_df  point_df                                id  \\\n",
      "87  Baltimore Orioles      2.00       NaN  1c7c1b9957b53cbc52aeda8838b9f3f6   \n",
      "88  Toronto Blue Jays      1.95       NaN  1c7c1b9957b53cbc52aeda8838b9f3f6   \n",
      "\n",
      "       sport_key         commence_time sport_title bookmakers.title  \\\n",
      "87  baseball_mlb  2023-06-14T23:05:00Z         MLB          Betfair   \n",
      "88  baseball_mlb  2023-06-14T23:05:00Z         MLB          Betfair   \n",
      "\n",
      "   bookmakers.key bookmakers.last_update bookmakers.markets.key  \\\n",
      "87        betfair   2023-06-14T06:43:18Z                    h2h   \n",
      "88        betfair   2023-06-14T06:43:18Z                    h2h   \n",
      "\n",
      "    one-on-price_df  price_arbi  point_arbi  one-on-price_arbi  \n",
      "87         0.500000        3.95         0.0           1.012821  \n",
      "88         0.512821        3.95         0.0           1.012821  \n"
     ]
    }
   ],
   "source": [
    "# returns a list of ArbitrageOpportunities\n",
    "\n",
    "df = the_odds_read_json('../src/saved_data/apis/the_odds.json')\n",
    "\n",
    "\n",
    "# Group by id and outcome name\n",
    "df = df.loc[df[df['bookmakers.markets.key'] == 'h2h'].groupby(['name', 'id'])['price'].idxmax()]\n",
    "\n",
    "# Sum one over the odds\n",
    "df['one-on-price'] = 1.0 /df['price']\n",
    "\n",
    "summed_odds = df.groupby(['id']).sum(numeric_only=True)\n",
    "\n",
    "arbi_opportunities = summed_odds[summed_odds['one-on-price'] < 1]\n",
    "\n",
    "# Combine arbi_opportunities into the same df\n",
    "combined = df.join(summed_odds, on='id', how='inner', lsuffix='_df', rsuffix='_arbi')\n",
    "\n",
    "# Iterate through each event and create an arbitrage opportunity object\n",
    "ids = df['id']\n",
    "\n",
    "for event_id in ids:\n",
    "    relevant_info = combined[combined['id'] == event_id]\n",
    "    #print(relevant_info)\n",
    "    print(relevant_info)\n",
    "    break"
   ]
  },
  {
   "cell_type": "code",
   "execution_count": 14,
   "metadata": {},
   "outputs": [
    {
     "name": "stdout",
     "output_type": "stream",
     "text": [
      "           name  price_df  point_df                                id  \\\n",
      "59      Croatia      4.30       NaN  8aca736723479efbc20fa5981d613472   \n",
      "61         Draw      3.55       NaN  8aca736723479efbc20fa5981d613472   \n",
      "57  Netherlands      2.04       NaN  8aca736723479efbc20fa5981d613472   \n",
      "\n",
      "                     sport_key         commence_time          sport_title  \\\n",
      "59  soccer_uefa_nations_league  2023-06-14T18:45:00Z  UEFA Nations League   \n",
      "61  soccer_uefa_nations_league  2023-06-14T18:45:00Z  UEFA Nations League   \n",
      "57  soccer_uefa_nations_league  2023-06-14T18:45:00Z  UEFA Nations League   \n",
      "\n",
      "   bookmakers.title bookmakers.key bookmakers.last_update  \\\n",
      "59          Betfair        betfair   2023-06-14T06:42:18Z   \n",
      "61          Betfair        betfair   2023-06-14T06:42:18Z   \n",
      "57           Unibet         unibet   2023-06-14T06:43:39Z   \n",
      "\n",
      "   bookmakers.markets.key  one-on-price_df  price_arbi  point_arbi  \\\n",
      "59                    h2h         0.232558        9.89         0.0   \n",
      "61                    h2h         0.281690        9.89         0.0   \n",
      "57                    h2h         0.490196        9.89         0.0   \n",
      "\n",
      "    one-on-price_arbi  \n",
      "59           1.004444  \n",
      "61           1.004444  \n",
      "57           1.004444  \n"
     ]
    },
    {
     "data": {
      "text/plain": [
       "{'Croatia': 0.23152914095719168,\n",
       " 'Draw': 0.2804437482016689,\n",
       " 'Netherlands': 0.48802711084113937}"
      ]
     },
     "execution_count": 14,
     "metadata": {},
     "output_type": "execute_result"
    }
   ],
   "source": [
    "# Calculating the betting ratio\n",
    "# FOR EQUAL profit based on the outcome\n",
    "test = combined[combined['id'] == '8aca736723479efbc20fa5981d613472']\n",
    "print(test)\n",
    "\n",
    "def even_profit(df: pd.DataFrame) -> dict:\n",
    "    # Iterate through each possible outcome (win, draw, lose) and then follow the equations\n",
    "    # s1*o1 = s2*o2 = s3*o3\n",
    "    # which means we can solve it for each one with\n",
    "\n",
    "    num_outcomes = df.shape[0]\n",
    "    ratios = {}\n",
    "\n",
    "    for i in range(num_outcomes):\n",
    "        divisor = 0\n",
    "\n",
    "        for j in range(num_outcomes):\n",
    "            divisor = divisor + (df.iloc[i]['price_df']/df.iloc[j]['price_df'])\n",
    "        \n",
    "        ratios[df.iloc[i]['name']] = 1/divisor\n",
    "    \n",
    "    return ratios\n",
    "\n",
    "even_profit(test)\n"
   ]
  },
  {
   "cell_type": "code",
   "execution_count": 22,
   "metadata": {},
   "outputs": [
    {
     "name": "stdout",
     "output_type": "stream",
     "text": [
      "For OUTCOME: Croatia place bet proportion 0.23152914095719168 for EQUAL and TODO if FAVOURED\n",
      "For OUTCOME: Draw place bet proportion 0.2804437482016689 for EQUAL and TODO if FAVOURED\n",
      "For OUTCOME: Netherlands place bet proportion 0.48802711084113937 for EQUAL and TODO if FAVOURED\n",
      "\n"
     ]
    }
   ],
   "source": [
    "def opportunity_to_string(df: pd.DataFrame) -> str:\n",
    "    '''\n",
    "    Converts the gross Dataframe into a nice readable string for our message library\n",
    "    '''\n",
    "    arbi_string = ''\n",
    "    for i in range(df.shape[0]):\n",
    "        name = df.iloc[i]['name']\n",
    "        arbi_string = arbi_string + 'For OUTCOME: {} place bet proportion {} for EQUAL and {} if FAVOURED\\n'.format(name, even_profit(df)[name], 'TODO')\n",
    "    return arbi_string\n",
    "print(opportunity_to_string(test))"
   ]
  }
 ],
 "metadata": {
  "kernelspec": {
   "display_name": "base",
   "language": "python",
   "name": "python3"
  },
  "language_info": {
   "codemirror_mode": {
    "name": "ipython",
    "version": 3
   },
   "file_extension": ".py",
   "mimetype": "text/x-python",
   "name": "python",
   "nbconvert_exporter": "python",
   "pygments_lexer": "ipython3",
   "version": "3.10.9"
  },
  "orig_nbformat": 4
 },
 "nbformat": 4,
 "nbformat_minor": 2
}
